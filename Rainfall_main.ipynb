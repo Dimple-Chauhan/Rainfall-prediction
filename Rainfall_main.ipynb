{
 "cells": [
  {
   "cell_type": "code",
   "execution_count": 55,
   "metadata": {
    "id": "Lm6EE3X8iSAz"
   },
   "outputs": [],
   "source": [
    "import numpy as np\n",
    "import pandas as pd\n",
    "import matplotlib.pyplot as plt\n",
    "import seaborn as sns\n",
    "from sklearn.utils import resample\n",
    "from sklearn.model_selection import train_test_split, GridSearchCV, cross_val_score\n",
    "from sklearn.ensemble import RandomForestClassifier\n",
    "from sklearn.metrics import classification_report, confusion_matrix, accuracy_score\n",
    "import pickle"
   ]
  },
  {
   "cell_type": "markdown",
   "metadata": {
    "id": "uAKV5UtHkAcj"
   },
   "source": [
    "**Data Collection and Processing**"
   ]
  },
  {
   "cell_type": "code",
   "execution_count": 56,
   "metadata": {
    "id": "QQVgaeE3jIEd"
   },
   "outputs": [],
   "source": [
    "data = pd.read_csv(\"Rainfall.csv\")"
   ]
  },
  {
   "cell_type": "code",
   "execution_count": null,
   "metadata": {
    "colab": {
     "base_uri": "https://localhost:8080/"
    },
    "id": "X09thXyakP0C",
    "outputId": "8d2eed14-0c28-4d69-8083-b4c3021dd9be"
   },
   "outputs": [],
   "source": [
    "print(type(data))"
   ]
  },
  {
   "cell_type": "code",
   "execution_count": null,
   "metadata": {
    "colab": {
     "base_uri": "https://localhost:8080/"
    },
    "id": "ZIiIWhW_kSJu",
    "outputId": "307ec7a6-0ac4-4760-a75f-61d742743bce"
   },
   "outputs": [],
   "source": [
    "data.shape"
   ]
  },
  {
   "cell_type": "code",
   "execution_count": null,
   "metadata": {
    "colab": {
     "base_uri": "https://localhost:8080/",
     "height": 206
    },
    "id": "2hfNHtXPkU4_",
    "outputId": "f00f8c8b-f40a-4120-df21-4ccccc7c0952"
   },
   "outputs": [],
   "source": [
    "data.head()"
   ]
  },
  {
   "cell_type": "code",
   "execution_count": null,
   "metadata": {
    "colab": {
     "base_uri": "https://localhost:8080/",
     "height": 206
    },
    "id": "VU3q7vaHkZzT",
    "outputId": "e69c4b94-cd8a-4780-b1c7-7a9d783cd92e"
   },
   "outputs": [],
   "source": [
    "data.tail()"
   ]
  },
  {
   "cell_type": "code",
   "execution_count": null,
   "metadata": {
    "colab": {
     "base_uri": "https://localhost:8080/"
    },
    "id": "j6GR2_gYkjfV",
    "outputId": "9b73f68f-ff73-46b8-a606-36028820f004"
   },
   "outputs": [],
   "source": [
    "data[\"day\"].unique()"
   ]
  },
  {
   "cell_type": "code",
   "execution_count": null,
   "metadata": {},
   "outputs": [],
   "source": [
    "data.info"
   ]
  },
  {
   "cell_type": "code",
   "execution_count": null,
   "metadata": {
    "colab": {
     "base_uri": "https://localhost:8080/"
    },
    "id": "41AvZH5ykvjJ",
    "outputId": "35e72988-6464-4c0d-b750-63be3db8e1c0"
   },
   "outputs": [],
   "source": [
    "print(\"Data Info:\\n\")\n",
    "data.info()"
   ]
  },
  {
   "cell_type": "code",
   "execution_count": null,
   "metadata": {
    "colab": {
     "base_uri": "https://localhost:8080/"
    },
    "id": "NaKQzgywlp6R",
    "outputId": "288f3028-4100-4b1a-bb47-d71ea31edd2e"
   },
   "outputs": [],
   "source": [
    "data.columns"
   ]
  },
  {
   "cell_type": "code",
   "execution_count": null,
   "metadata": {
    "id": "UVEv2BKClLZY"
   },
   "outputs": [],
   "source": [
    "data.columns = data.columns.str.strip()"
   ]
  },
  {
   "cell_type": "code",
   "execution_count": null,
   "metadata": {
    "colab": {
     "base_uri": "https://localhost:8080/"
    },
    "id": "KLf3gNYElwjw",
    "outputId": "c051ea10-d235-4cb2-b71f-9719d16089ec"
   },
   "outputs": [],
   "source": [
    "data.columns"
   ]
  },
  {
   "cell_type": "code",
   "execution_count": null,
   "metadata": {
    "colab": {
     "base_uri": "https://localhost:8080/"
    },
    "id": "LvEjl4K7lzLJ",
    "outputId": "268bd8a7-9309-4492-e6ee-8bd119f8af88"
   },
   "outputs": [],
   "source": [
    "print(\"Data Info:\\n\")\n",
    "data.info()"
   ]
  },
  {
   "cell_type": "code",
   "execution_count": 68,
   "metadata": {
    "id": "0dF7Hh4El1KY"
   },
   "outputs": [],
   "source": [
    "data = data.drop(columns=[\"day\"])"
   ]
  },
  {
   "cell_type": "code",
   "execution_count": null,
   "metadata": {
    "colab": {
     "base_uri": "https://localhost:8080/",
     "height": 206
    },
    "id": "GGKhxQmLmByn",
    "outputId": "352ce6d9-c862-461e-8479-412780ef062a"
   },
   "outputs": [],
   "source": [
    "data.head()"
   ]
  },
  {
   "cell_type": "code",
   "execution_count": null,
   "metadata": {
    "colab": {
     "base_uri": "https://localhost:8080/"
    },
    "id": "6_IRIu7pmCp4",
    "outputId": "743caf8e-74a9-4510-8980-96c158893e0b"
   },
   "outputs": [],
   "source": [
    "print(data.isnull().sum())"
   ]
  },
  {
   "cell_type": "code",
   "execution_count": null,
   "metadata": {
    "colab": {
     "base_uri": "https://localhost:8080/"
    },
    "id": "FvsmvX3Tmn4v",
    "outputId": "bad551bf-5166-44ec-ea4b-47b2597d5057"
   },
   "outputs": [],
   "source": [
    "data[\"winddirection\"].unique()"
   ]
  },
  {
   "cell_type": "code",
   "execution_count": 72,
   "metadata": {
    "id": "13ZNShNxmOAg"
   },
   "outputs": [],
   "source": [
    "data[\"winddirection\"] = data[\"winddirection\"].fillna(data[\"winddirection\"].mode()[0])\n",
    "data[\"windspeed\"] = data[\"windspeed\"].fillna(data[\"windspeed\"].median())"
   ]
  },
  {
   "cell_type": "code",
   "execution_count": null,
   "metadata": {
    "colab": {
     "base_uri": "https://localhost:8080/"
    },
    "id": "8HzY4ygonLSB",
    "outputId": "f1035bf3-68dd-40f8-e67b-237c47a81ee0"
   },
   "outputs": [],
   "source": [
    "print(data.isnull().sum())"
   ]
  },
  {
   "cell_type": "code",
   "execution_count": null,
   "metadata": {
    "colab": {
     "base_uri": "https://localhost:8080/"
    },
    "id": "D7FrUna7nPus",
    "outputId": "8d7b7fd8-e45a-40ae-c892-e87892dab2bc"
   },
   "outputs": [],
   "source": [
    "data[\"rainfall\"].unique()"
   ]
  },
  {
   "cell_type": "code",
   "execution_count": 75,
   "metadata": {
    "id": "tSOIPIyWnwKu"
   },
   "outputs": [],
   "source": [
    "data[\"rainfall\"] = data[\"rainfall\"].map({\"yes\": 1, \"no\": 0})"
   ]
  },
  {
   "cell_type": "code",
   "execution_count": null,
   "metadata": {
    "colab": {
     "base_uri": "https://localhost:8080/",
     "height": 206
    },
    "id": "C2V8TpLxn_5Z",
    "outputId": "a7062126-349b-420e-dc0a-ff43c686f8d0"
   },
   "outputs": [],
   "source": [
    "data.head()"
   ]
  },
  {
   "cell_type": "markdown",
   "metadata": {
    "id": "Zit4FaWyoHIY"
   },
   "source": [
    "**Exploratory Data Analysis (EDA)**"
   ]
  },
  {
   "cell_type": "code",
   "execution_count": null,
   "metadata": {
    "colab": {
     "base_uri": "https://localhost:8080/"
    },
    "id": "87hXdZaNoBh4",
    "outputId": "ecdf5c08-2fa1-4f31-9f69-bd0d4a17cf27"
   },
   "outputs": [],
   "source": [
    "data.shape"
   ]
  },
  {
   "cell_type": "code",
   "execution_count": 78,
   "metadata": {
    "id": "gCEC7tmZoNXd"
   },
   "outputs": [],
   "source": [
    "sns.set(style=\"whitegrid\")"
   ]
  },
  {
   "cell_type": "code",
   "execution_count": null,
   "metadata": {
    "colab": {
     "base_uri": "https://localhost:8080/",
     "height": 300
    },
    "id": "GBZvgcgNoZzE",
    "outputId": "5dfac88a-7d09-452c-fb07-41aa22a5af98"
   },
   "outputs": [],
   "source": [
    "data.describe()"
   ]
  },
  {
   "cell_type": "code",
   "execution_count": null,
   "metadata": {
    "colab": {
     "base_uri": "https://localhost:8080/"
    },
    "id": "WmoVcnAQruf_",
    "outputId": "91ff58ef-57f8-4ad0-8a65-a68572002881"
   },
   "outputs": [],
   "source": [
    "data.columns"
   ]
  },
  {
   "cell_type": "code",
   "execution_count": null,
   "metadata": {
    "colab": {
     "base_uri": "https://localhost:8080/",
     "height": 862
    },
    "id": "XKf1029Qoeqa",
    "outputId": "0be42167-b92e-4459-ff3d-c139ada54a6a"
   },
   "outputs": [],
   "source": [
    "plt.figure(figsize=(15, 10))\n",
    "\n",
    "for i, column in enumerate(['pressure', 'maxtemp', 'temparature', 'mintemp', 'dewpoint', 'humidity','cloud', 'sunshine', 'windspeed'], 1):\n",
    "  plt.subplot(3, 3, i)\n",
    "  sns.histplot(data[column], kde=True)\n",
    "  plt.title(f\"Distribution of {column}\")\n",
    "\n",
    "plt.tight_layout()\n",
    "plt.show()"
   ]
  },
  {
   "cell_type": "code",
   "execution_count": null,
   "metadata": {
    "colab": {
     "base_uri": "https://localhost:8080/",
     "height": 419
    },
    "id": "ljGkqq0Ss2a8",
    "outputId": "32a6ca77-fffa-4724-a8e6-e3516bfab502"
   },
   "outputs": [],
   "source": [
    "plt.figure(figsize=(5, 4))\n",
    "sns.countplot(x=\"rainfall\", data=data)\n",
    "plt.title(\"Distribution of Rainfall\")\n",
    "plt.show()"
   ]
  },
  {
   "cell_type": "code",
   "execution_count": null,
   "metadata": {
    "colab": {
     "base_uri": "https://localhost:8080/",
     "height": 791
    },
    "id": "nOZiTVk6uDHN",
    "outputId": "e34441ee-72b8-491b-b593-b87e64e74ed9"
   },
   "outputs": [],
   "source": [
    "# correlation matrix\n",
    "plt.figure(figsize=(10, 8))\n",
    "sns.heatmap(data.corr(), annot=True, cmap=\"coolwarm\", fmt=\".2f\")\n",
    "plt.title(\"Correlation heatmap\")\n",
    "plt.show()"
   ]
  },
  {
   "cell_type": "code",
   "execution_count": null,
   "metadata": {
    "colab": {
     "base_uri": "https://localhost:8080/",
     "height": 862
    },
    "id": "kgpXLXcwue3D",
    "outputId": "612d3624-f1fc-49b8-b277-0c689aa64144"
   },
   "outputs": [],
   "source": [
    "plt.figure(figsize=(15, 10))\n",
    "\n",
    "for i, column in enumerate(['pressure', 'maxtemp', 'temparature', 'mintemp', 'dewpoint', 'humidity','cloud', 'sunshine', 'windspeed'], 1):\n",
    "  plt.subplot(3, 3, i)\n",
    "  sns.boxplot(data[column])\n",
    "  plt.title(f\"Boxplot of {column}\")\n",
    "\n",
    "plt.tight_layout()\n",
    "plt.show()"
   ]
  },
  {
   "cell_type": "markdown",
   "metadata": {
    "id": "8Ic4pF8cwBMH"
   },
   "source": [
    "**Data Preprocessing**"
   ]
  },
  {
   "cell_type": "code",
   "execution_count": 85,
   "metadata": {
    "id": "TNnu6UwAvf72"
   },
   "outputs": [],
   "source": [
    "# drop highly correlated column\n",
    "data = data.drop(columns=['maxtemp', 'temparature', 'mintemp'])"
   ]
  },
  {
   "cell_type": "code",
   "execution_count": null,
   "metadata": {
    "colab": {
     "base_uri": "https://localhost:8080/",
     "height": 206
    },
    "id": "RLMEus8ZwSBH",
    "outputId": "5ca436ee-f320-4c79-8963-22718908f1fb"
   },
   "outputs": [],
   "source": [
    "data.head()"
   ]
  },
  {
   "cell_type": "code",
   "execution_count": null,
   "metadata": {
    "colab": {
     "base_uri": "https://localhost:8080/"
    },
    "id": "rvaWRILVzUy7",
    "outputId": "fad7b447-3269-4553-c3b4-ce3a254ae97f"
   },
   "outputs": [],
   "source": [
    "print(data[\"rainfall\"].value_counts())"
   ]
  },
  {
   "cell_type": "code",
   "execution_count": null,
   "metadata": {
    "id": "jqHvahpXwSx9"
   },
   "outputs": [],
   "source": [
    "df_majority = data[data[\"rainfall\"] == 1]\n",
    "df_minority = data[data[\"rainfall\"] == 0]"
   ]
  },
  {
   "cell_type": "code",
   "execution_count": null,
   "metadata": {
    "colab": {
     "base_uri": "https://localhost:8080/"
    },
    "id": "CIcP4uw3zz4j",
    "outputId": "88bcafb3-a9f8-48a3-8f41-ace64e9bf733"
   },
   "outputs": [],
   "source": [
    "print(df_majority.shape)\n",
    "print(df_minority.shape)"
   ]
  },
  {
   "cell_type": "code",
   "execution_count": null,
   "metadata": {
    "id": "laxjXe8jz5Eo"
   },
   "outputs": [],
   "source": [
    "df_majority_downsampled = resample(df_majority, replace=False, n_samples=len(df_minority), random_state=42)"
   ]
  },
  {
   "cell_type": "code",
   "execution_count": null,
   "metadata": {
    "colab": {
     "base_uri": "https://localhost:8080/"
    },
    "id": "lIJKpKMt0V2f",
    "outputId": "adde9cc8-f1a5-4453-f460-eace9a791e23"
   },
   "outputs": [],
   "source": [
    "df_majority_downsampled.shape"
   ]
  },
  {
   "cell_type": "code",
   "execution_count": 92,
   "metadata": {
    "id": "kcMARKcQ0YbA"
   },
   "outputs": [],
   "source": [
    "df_downsampled = pd.concat([df_majority_downsampled, df_minority])"
   ]
  },
  {
   "cell_type": "code",
   "execution_count": null,
   "metadata": {
    "colab": {
     "base_uri": "https://localhost:8080/"
    },
    "id": "TulqUXVb0jsg",
    "outputId": "3025c5bf-8f00-46f5-8514-7f79eaf918f5"
   },
   "outputs": [],
   "source": [
    "df_downsampled.shape"
   ]
  },
  {
   "cell_type": "code",
   "execution_count": null,
   "metadata": {
    "colab": {
     "base_uri": "https://localhost:8080/",
     "height": 206
    },
    "id": "UHWgAd0R0lx_",
    "outputId": "f09735da-bff3-45ef-fb71-12cbcdb9b58c"
   },
   "outputs": [],
   "source": [
    "df_downsampled.head()"
   ]
  },
  {
   "cell_type": "code",
   "execution_count": null,
   "metadata": {
    "id": "TwvmE4Gf0p5K"
   },
   "outputs": [],
   "source": [
    "df_downsampled = df_downsampled.sample(frac=1, random_state=42).reset_index(drop=True)"
   ]
  },
  {
   "cell_type": "code",
   "execution_count": null,
   "metadata": {
    "colab": {
     "base_uri": "https://localhost:8080/",
     "height": 206
    },
    "id": "dBFm9t5G06tO",
    "outputId": "6bce0c81-e876-4970-eccc-6113b44cb114"
   },
   "outputs": [],
   "source": [
    "df_downsampled.head()"
   ]
  },
  {
   "cell_type": "code",
   "execution_count": null,
   "metadata": {
    "colab": {
     "base_uri": "https://localhost:8080/",
     "height": 178
    },
    "id": "EMK-Lfiw08lg",
    "outputId": "3f7225a5-3510-4395-accd-fe0d4082404f"
   },
   "outputs": [],
   "source": [
    "df_downsampled[\"rainfall\"].value_counts()"
   ]
  },
  {
   "cell_type": "code",
   "execution_count": null,
   "metadata": {
    "id": "i2v1OgbP1Pp3"
   },
   "outputs": [],
   "source": [
    "X = df_downsampled.drop(columns=[\"rainfall\"])\n",
    "y = df_downsampled[\"rainfall\"]"
   ]
  },
  {
   "cell_type": "code",
   "execution_count": null,
   "metadata": {
    "colab": {
     "base_uri": "https://localhost:8080/"
    },
    "id": "k8qcP1Hl1bZB",
    "outputId": "09b72628-271c-4263-8896-f8c56a556974"
   },
   "outputs": [],
   "source": [
    "print(X)"
   ]
  },
  {
   "cell_type": "code",
   "execution_count": null,
   "metadata": {
    "colab": {
     "base_uri": "https://localhost:8080/"
    },
    "id": "06ZSSjt51egt",
    "outputId": "b02f0d9b-c278-45be-80ca-98a6f956d6cd"
   },
   "outputs": [],
   "source": [
    "print(y)"
   ]
  },
  {
   "cell_type": "code",
   "execution_count": null,
   "metadata": {
    "id": "b4ZdLLo60_xw"
   },
   "outputs": [],
   "source": [
    "X_train, X_test, y_train, y_test = train_test_split(X, y, test_size=0.2, random_state=42)"
   ]
  },
  {
   "cell_type": "markdown",
   "metadata": {
    "id": "CIq-XcGb3XHI"
   },
   "source": [
    "**Model Training**"
   ]
  },
  {
   "cell_type": "code",
   "execution_count": 102,
   "metadata": {
    "id": "LWZRKC9Q20Jm"
   },
   "outputs": [],
   "source": [
    "rf_model = RandomForestClassifier(random_state=42)\n",
    "\n",
    "param_grid_rf = {\n",
    "    \"n_estimators\": [50, 100, 200],\n",
    "    \"max_features\": [\"sqrt\", \"log2\"],\n",
    "    \"max_depth\": [None, 10, 20, 30],\n",
    "    \"min_samples_split\": [2, 5, 10],\n",
    "    \"min_samples_leaf\": [1, 2, 4]\n",
    "}"
   ]
  },
  {
   "cell_type": "code",
   "execution_count": null,
   "metadata": {
    "colab": {
     "base_uri": "https://localhost:8080/",
     "height": 151
    },
    "id": "rt-f_FBu3Tax",
    "outputId": "f525177d-28dc-45e4-9346-bbdf75cfa2ec"
   },
   "outputs": [],
   "source": [
    "grid_search_rf = GridSearchCV(estimator=rf_model, param_grid=param_grid_rf, cv=5, n_jobs=-1, verbose=2)\n",
    "\n",
    "grid_search_rf.fit(X_train, y_train)"
   ]
  },
  {
   "cell_type": "code",
   "execution_count": null,
   "metadata": {
    "colab": {
     "base_uri": "https://localhost:8080/"
    },
    "id": "7aVDOZZ938cM",
    "outputId": "34806e16-42f0-463f-8e34-1d7c58dc3bee"
   },
   "outputs": [],
   "source": [
    "best_rf_model = grid_search_rf.best_estimator_\n",
    "\n",
    "print(\"best parameters for Random Forest:\", grid_search_rf.best_params_)"
   ]
  },
  {
   "cell_type": "markdown",
   "metadata": {
    "id": "99CaTZLp4oWV"
   },
   "source": [
    "**Model Evaluation**"
   ]
  },
  {
   "cell_type": "code",
   "execution_count": null,
   "metadata": {
    "colab": {
     "base_uri": "https://localhost:8080/"
    },
    "id": "2Sj1BJbm4eUZ",
    "outputId": "b7e3f50e-2e14-4194-9581-e4f3ef4b67be"
   },
   "outputs": [],
   "source": [
    "cv_scores = cross_val_score(best_rf_model, X_train, y_train, cv=5)\n",
    "print(\"Cross-validation scores:\", cv_scores)\n",
    "print(\"Mean cross-validation score:\", np.mean(cv_scores))"
   ]
  },
  {
   "cell_type": "code",
   "execution_count": null,
   "metadata": {
    "colab": {
     "base_uri": "https://localhost:8080/"
    },
    "id": "WW5LcHnc5ZvK",
    "outputId": "ea7101f3-e6b9-4701-9e80-b7c5084847ad"
   },
   "outputs": [],
   "source": [
    "y_pred = best_rf_model.predict(X_test)\n",
    "\n",
    "print(\"Test set Accuracy:\", accuracy_score(y_test, y_pred))\n",
    "print(\"Test set Confusion Matrix:\\n\", confusion_matrix(y_test, y_pred))\n",
    "print(\"Classification Report:\\n\", classification_report(y_test, y_pred))"
   ]
  },
  {
   "cell_type": "markdown",
   "metadata": {
    "id": "Na_n6PId6Dmn"
   },
   "source": [
    "**save code in pickle**"
   ]
  },
  {
   "cell_type": "code",
   "execution_count": null,
   "metadata": {
    "id": "bsJR2Kz47FEv"
   },
   "outputs": [],
   "source": [
    "model_data = {\"model\": best_rf_model, \"feature_names\": X.columns.tolist()}\n",
    "with open(\"rainfall_prediction_model.pkl\", \"wb\") as file: #rainfall_prediction_model is pickle file name\n",
    "  pickle.dump(model_data, file)"
   ]
  }
 ],
 "metadata": {
  "colab": {
   "provenance": []
  },
  "kernelspec": {
   "display_name": "Python 3",
   "language": "python",
   "name": "python3"
  },
  "language_info": {
   "codemirror_mode": {
    "name": "ipython",
    "version": 3
   },
   "file_extension": ".py",
   "mimetype": "text/x-python",
   "name": "python",
   "nbconvert_exporter": "python",
   "pygments_lexer": "ipython3",
   "version": "3.13.0"
  }
 },
 "nbformat": 4,
 "nbformat_minor": 4
}
